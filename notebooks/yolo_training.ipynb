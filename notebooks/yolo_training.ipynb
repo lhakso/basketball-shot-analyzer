{
 "cells": [
  {
   "cell_type": "code",
   "execution_count": null,
   "id": "9e149de1-5c0d-483b-952e-e6eca3240e91",
   "metadata": {},
   "outputs": [
    {
     "name": "stdout",
     "output_type": "stream",
     "text": [
      "Using MPS (Metal) device\n",
      "Using device: mps\n",
      "New https://pypi.org/project/ultralytics/8.3.108 available 😃 Update with 'pip install -U ultralytics'\n",
      "Ultralytics 8.3.102 🚀 Python-3.12.9 torch-2.6.0 MPS (Apple M4 Pro)\n",
      "\u001b[34m\u001b[1mengine/trainer: \u001b[0mtask=detect, mode=train, model=yolov8n.pt, data=../basketball_dataset/data.yaml, epochs=100, time=None, patience=20, batch=16, imgsz=640, save=True, save_period=-1, cache=False, device=mps, workers=8, project=../training_results, name=third_run, exist_ok=False, pretrained=True, optimizer=auto, verbose=True, seed=0, deterministic=True, single_cls=False, rect=False, cos_lr=True, close_mosaic=10, resume=False, amp=True, fraction=1.0, profile=False, freeze=None, multi_scale=False, overlap_mask=True, mask_ratio=4, dropout=0.0, val=True, split=val, save_json=False, save_hybrid=False, conf=None, iou=0.7, max_det=300, half=False, dnn=False, plots=True, source=None, vid_stride=1, stream_buffer=False, visualize=False, augment=True, agnostic_nms=False, classes=None, retina_masks=False, embed=None, show=False, save_frames=False, save_txt=False, save_conf=False, save_crop=False, show_labels=True, show_conf=True, show_boxes=True, line_width=None, format=torchscript, keras=False, optimize=False, int8=False, dynamic=False, simplify=True, opset=None, workspace=None, nms=False, lr0=0.01, lrf=0.01, momentum=0.937, weight_decay=0.0005, warmup_epochs=3, warmup_momentum=0.8, warmup_bias_lr=0.1, box=7.5, cls=0.5, dfl=1.5, pose=12.0, kobj=1.0, nbs=64, hsv_h=0.015, hsv_s=0.7, hsv_v=0.4, degrees=15.0, translate=0.1, scale=0.5, shear=10.0, perspective=0.0, flipud=0.0, fliplr=0.5, bgr=0.0, mosaic=1.0, mixup=0.0, copy_paste=0.0, copy_paste_mode=flip, auto_augment=randaugment, erasing=0.4, crop_fraction=1.0, cfg=None, tracker=botsort.yaml, save_dir=../training_results/third_run\n"
     ]
    }
   ],
   "source": [
    "from ultralytics import YOLO\n",
    "import torch\n",
    "import matplotlib.pyplot as plt\n",
    "import os\n",
    "\n",
    "# Check for GPU availability\n",
    "if torch.backends.mps.is_available():\n",
    "    device = 'mps'\n",
    "    print(\"Using MPS (Metal) device\")\n",
    "else: device = 'cpu'\n",
    "    \n",
    "print(f\"Using device: {device}\")\n",
    "\n",
    "# Start with a pre-trained YOLOv8 nano model\n",
    "model = YOLO('yolov8n.pt')  # nano model is good for smaller datasets\n",
    "\n",
    "# Configure training parameters\n",
    "results = model.train(\n",
    "    data='../basketball_dataset/data.yaml',\n",
    "    epochs=100,             # Training for 100 epochs\n",
    "    patience=20,            # Early stopping after 20 epochs without improvement\n",
    "    batch=16,               # Batch size\n",
    "    imgsz=640,              # Input image size\n",
    "    save=True,              # Save checkpoints\n",
    "    device=device,          # Use GPU if available\n",
    "    project='../training_results',\n",
    "    name='third_run',\n",
    "    \n",
    "    # Data augmentation for better generalization\n",
    "    augment=True,\n",
    "    degrees=15.0,           # Rotation range\n",
    "    translate=0.1,          # Translation range\n",
    "    scale=0.5,              # Scale range\n",
    "    shear=10.0,             # Shear range\n",
    "    fliplr=0.5,             # Horizontal flip probability\n",
    "    mosaic=1.0,             # Mosaic augmentation\n",
    "    \n",
    "    # Color and brightness augmentations\n",
    "    hsv_h=0.015,       # Hue shift (0-1)\n",
    "    hsv_s=0.7,         # Saturation shift (0-1)\n",
    "    hsv_v=0.4,         # Value/brightness shift (0-1)\n",
    "    \n",
    "    # Training parameters\n",
    "    cos_lr=True,            # Cosine learning rate scheduler\n",
    "    lr0=0.01,               # Initial learning rate\n",
    "    lrf=0.01,               # Final learning rate ratio\n",
    "    momentum=0.937,         # SGD momentum\n",
    "    weight_decay=0.0005,    # Weight decay\n",
    "    warmup_epochs=3,        # Warmup epochs\n",
    "    warmup_momentum=0.8,    # Warmup momentum\n",
    "    warmup_bias_lr=0.1,     # Warmup bias learning rate\n",
    "    verbose=True\n",
    ")\n",
    "\n",
    "# Evaluate the model on the validation set\n",
    "val_results = model.val()\n",
    "print(f\"Validation results: mAP@0.5 = {val_results.box.map50:.4f}\")"
   ]
  }
 ],
 "metadata": {
  "kernelspec": {
   "display_name": "Python 3.12 (shot_analyzer)",
   "language": "python",
   "name": ".shot_analyzer_venv"
  },
  "language_info": {
   "codemirror_mode": {
    "name": "ipython",
    "version": 3
   },
   "file_extension": ".py",
   "mimetype": "text/x-python",
   "name": "python",
   "nbconvert_exporter": "python",
   "pygments_lexer": "ipython3",
   "version": "3.12.9"
  }
 },
 "nbformat": 4,
 "nbformat_minor": 5
}
