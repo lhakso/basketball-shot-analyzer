{
 "cells": [
  {
   "cell_type": "code",
   "execution_count": 55,
   "id": "aabdd124-bc85-44a8-a8a7-7fabe4a873df",
   "metadata": {},
   "outputs": [
    {
     "name": "stdout",
     "output_type": "stream",
     "text": [
      "Extracted 38 frames (every 20th frame)\n",
      "Original video: 208.7072709052444 FPS, Extracted frames equivalent: 10.44 FPS\n"
     ]
    }
   ],
   "source": [
    "import cv2\n",
    "import os\n",
    "import re\n",
    "\n",
    "def extract_frames(video_path, output_folder, every_nth_frame=10):\n",
    "    # Create output folder if it doesn't exist\n",
    "    if not os.path.exists(output_folder):\n",
    "        os.makedirs(output_folder)\n",
    "    \n",
    "    # Open the video\n",
    "    video = cv2.VideoCapture(video_path)\n",
    "    \n",
    "    # Check if video opened successfully\n",
    "    if not video.isOpened():\n",
    "        print(\"Error opening video file\")\n",
    "        return\n",
    "    \n",
    "    count = 0\n",
    "    frame_count = 0\n",
    "    \n",
    "    # Read until video is completed\n",
    "    while video.isOpened():\n",
    "        ret, frame = video.read()\n",
    "        if not ret:\n",
    "            break\n",
    "        \n",
    "        # Extract every Nth frame\n",
    "        if count % every_nth_frame == 0:\n",
    "            frame_filename = os.path.join(output_folder, f\"frame_{frame_count:05d}.png\")\n",
    "            cv2.imwrite(frame_filename, frame)\n",
    "            frame_count += 1\n",
    "        \n",
    "        count += 1\n",
    "    \n",
    "    # Calculate the effective FPS\n",
    "    original_fps = video.get(cv2.CAP_PROP_FPS)\n",
    "    effective_fps = original_fps / every_nth_frame\n",
    "    \n",
    "    video.release()\n",
    "    print(f\"Extracted {frame_count} frames (every {every_nth_frame}th frame)\")\n",
    "    print(f\"Original video: {original_fps} FPS, Extracted frames equivalent: {effective_fps:.2f} FPS\")\n",
    "\n",
    "# Example usage\n",
    "video_path = \"../input/video/right_profile_3.mov\"\n",
    "file_name =  re.split(r\"[/.]\", video_path)[-2]\n",
    "output_folder = f\"../training/extracted_frames_{file_name}\"\n",
    "extract_frames(video_path, output_folder, every_nth_frame=20)"
   ]
  },
  {
   "cell_type": "code",
   "execution_count": 37,
   "id": "4e1b563e-3ca8-412e-a6da-48a353d4ff09",
   "metadata": {},
   "outputs": [
    {
     "name": "stderr",
     "output_type": "stream",
     "text": [
      "WARNING: \"-f best\" selects the best pre-merged format which is often not the best option.\n",
      "         To let yt-dlp download and merge the best available formats, simply do not pass any format selection.\n",
      "         If you know what you are doing and want only the best pre-merged format, use \"-f b\" instead to suppress this warning\n"
     ]
    },
    {
     "name": "stdout",
     "output_type": "stream",
     "text": [
      "[youtube] Extracting URL: https://www.youtube.com/watch?v=ukkRfmc4KnM\n",
      "[youtube] ukkRfmc4KnM: Downloading webpage\n",
      "[youtube] ukkRfmc4KnM: Downloading tv client config\n",
      "[youtube] ukkRfmc4KnM: Downloading player 73381ccc-main\n",
      "[youtube] ukkRfmc4KnM: Downloading tv player API JSON\n",
      "[youtube] ukkRfmc4KnM: Downloading ios player API JSON\n",
      "[youtube] ukkRfmc4KnM: Downloading m3u8 information\n",
      "[info] ukkRfmc4KnM: Downloading 1 format(s): 18\n",
      "[download] Destination: ../input/video/basketball_video_1.mp4\n",
      "[download] 100% of   19.44MiB in 00:00:01 at 11.56MiB/s    \n",
      "Downloaded: ../input/video/basketball_video_1.mp4\n"
     ]
    },
    {
     "name": "stderr",
     "output_type": "stream",
     "text": [
      "WARNING: \"-f best\" selects the best pre-merged format which is often not the best option.\n",
      "         To let yt-dlp download and merge the best available formats, simply do not pass any format selection.\n",
      "         If you know what you are doing and want only the best pre-merged format, use \"-f b\" instead to suppress this warning\n"
     ]
    },
    {
     "name": "stdout",
     "output_type": "stream",
     "text": [
      "[youtube] Extracting URL: https://www.youtube.com/watch?v=8_4NFOSxTDE\n",
      "[youtube] 8_4NFOSxTDE: Downloading webpage\n",
      "[youtube] 8_4NFOSxTDE: Downloading tv client config\n",
      "[youtube] 8_4NFOSxTDE: Downloading player 73381ccc-main\n",
      "[youtube] 8_4NFOSxTDE: Downloading tv player API JSON\n",
      "[youtube] 8_4NFOSxTDE: Downloading ios player API JSON\n",
      "[youtube] 8_4NFOSxTDE: Downloading m3u8 information\n",
      "[info] 8_4NFOSxTDE: Downloading 1 format(s): 18\n",
      "[download] Destination: ../input/video/basketball_video_2.mp4\n",
      "[download] 100% of   82.73MiB in 00:00:06 at 12.43MiB/s    \n",
      "Downloaded: ../input/video/basketball_video_2.mp4\n"
     ]
    },
    {
     "name": "stderr",
     "output_type": "stream",
     "text": [
      "WARNING: \"-f best\" selects the best pre-merged format which is often not the best option.\n",
      "         To let yt-dlp download and merge the best available formats, simply do not pass any format selection.\n",
      "         If you know what you are doing and want only the best pre-merged format, use \"-f b\" instead to suppress this warning\n"
     ]
    },
    {
     "name": "stdout",
     "output_type": "stream",
     "text": [
      "[youtube] Extracting URL: https://www.youtube.com/watch?v=ZM2CZ64PQeQ\n",
      "[youtube] ZM2CZ64PQeQ: Downloading webpage\n",
      "[youtube] ZM2CZ64PQeQ: Downloading tv client config\n",
      "[youtube] ZM2CZ64PQeQ: Downloading player 73381ccc-main\n",
      "[youtube] ZM2CZ64PQeQ: Downloading tv player API JSON\n",
      "[youtube] ZM2CZ64PQeQ: Downloading ios player API JSON\n",
      "[youtube] ZM2CZ64PQeQ: Downloading m3u8 information\n",
      "[info] ZM2CZ64PQeQ: Downloading 1 format(s): 18\n",
      "[download] Destination: ../input/video/basketball_video_3.mp4\n",
      "[download] 100% of   21.02MiB in 00:00:01 at 15.98MiB/s    \n",
      "Downloaded: ../input/video/basketball_video_3.mp4\n"
     ]
    },
    {
     "name": "stderr",
     "output_type": "stream",
     "text": [
      "WARNING: \"-f best\" selects the best pre-merged format which is often not the best option.\n",
      "         To let yt-dlp download and merge the best available formats, simply do not pass any format selection.\n",
      "         If you know what you are doing and want only the best pre-merged format, use \"-f b\" instead to suppress this warning\n"
     ]
    },
    {
     "name": "stdout",
     "output_type": "stream",
     "text": [
      "[youtube] Extracting URL: https://www.youtube.com/watch?v=8-7JVqPlUJ4\n",
      "[youtube] 8-7JVqPlUJ4: Downloading webpage\n",
      "[youtube] 8-7JVqPlUJ4: Downloading tv client config\n",
      "[youtube] 8-7JVqPlUJ4: Downloading player 73381ccc-main\n",
      "[youtube] 8-7JVqPlUJ4: Downloading tv player API JSON\n",
      "[youtube] 8-7JVqPlUJ4: Downloading ios player API JSON\n",
      "[youtube] 8-7JVqPlUJ4: Downloading m3u8 information\n",
      "[info] 8-7JVqPlUJ4: Downloading 1 format(s): 18\n",
      "[download] Destination: ../input/video/basketball_video_4.mp4\n",
      "[download] 100% of    4.46MiB in 00:00:00 at 7.43MiB/s     \n",
      "Downloaded: ../input/video/basketball_video_4.mp4\n"
     ]
    }
   ],
   "source": [
    "\n",
    "\n",
    "import subprocess\n",
    "\n",
    "def download_youtube_video(url, output_filename):\n",
    "    command = [\n",
    "        'yt-dlp',\n",
    "        '-f', 'best',  # Best quality\n",
    "        '-o', output_filename,\n",
    "        url\n",
    "    ]\n",
    "    subprocess.run(command)\n",
    "    print(f\"Downloaded: {output_filename}\")\n",
    "\n",
    "urls = [\n",
    "    \"https://www.youtube.com/watch?v=ukkRfmc4KnM\",\n",
    "    \"https://www.youtube.com/watch?v=8_4NFOSxTDE\",\n",
    "    \"https://www.youtube.com/watch?v=ZM2CZ64PQeQ\",\n",
    "    \"https://www.youtube.com/watch?v=8-7JVqPlUJ4\"\n",
    "]\n",
    "\n",
    "for i, url in enumerate(urls):\n",
    "    download_youtube_video(url, f\"../input/video/basketball_video_{i+1}.mp4\")"
   ]
  }
 ],
 "metadata": {
  "kernelspec": {
   "display_name": "Python 3.12 (shot_analyzer)",
   "language": "python",
   "name": ".shot_analyzer_venv"
  },
  "language_info": {
   "codemirror_mode": {
    "name": "ipython",
    "version": 3
   },
   "file_extension": ".py",
   "mimetype": "text/x-python",
   "name": "python",
   "nbconvert_exporter": "python",
   "pygments_lexer": "ipython3",
   "version": "3.12.9"
  }
 },
 "nbformat": 4,
 "nbformat_minor": 5
}
