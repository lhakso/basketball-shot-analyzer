{
 "cells": [
  {
   "cell_type": "code",
   "execution_count": null,
   "id": "aeec9d6b",
   "metadata": {},
   "outputs": [
    {
     "name": "stdout",
     "output_type": "stream",
     "text": [
      "Downloading https://github.com/ultralytics/assets/releases/download/v8.3.0/yolov8x-pose.pt to 'yolov8x-pose.pt'...\n"
     ]
    },
    {
     "name": "stderr",
     "output_type": "stream",
     "text": [
      "100%|██████████| 133M/133M [00:03<00:00, 36.1MB/s] \n",
      "2025-04-15 19:46:43.756 Python[86433:8876149] +[IMKClient subclass]: chose IMKClient_Modern\n",
      "2025-04-15 19:46:43.756 Python[86433:8876149] +[IMKInputSession subclass]: chose IMKInputSession_Modern\n",
      "2025-04-15 19:47:09.685 Python[86433:8876149] _TIPropertyValueIsValid called with 16 on nil context!\n",
      "2025-04-15 19:47:09.685 Python[86433:8876149] imkxpc_getApplicationProperty:reply: called with incorrect property value 16, bailing.\n",
      "2025-04-15 19:47:09.685 Python[86433:8876149] Text input context does not respond to _valueForTIProperty:\n",
      "2025-04-15 19:47:14.614 Python[86433:8876149] _TIPropertyValueIsValid called with 16 on nil context!\n",
      "2025-04-15 19:47:14.614 Python[86433:8876149] imkxpc_getApplicationProperty:reply: called with incorrect property value 16, bailing.\n",
      "2025-04-15 19:47:14.614 Python[86433:8876149] Text input context does not respond to _valueForTIProperty:\n"
     ]
    }
   ],
   "source": [
    "from ultralytics import YOLO\n",
    "import cv2\n",
    "\n",
    "# Load your custom-trained YOLO model\n",
    "model = YOLO('yolov8x-pose.pt')\n",
    "# Open the video\n",
    "video_path = \"../input/video/right_profile_1.mov\"\n",
    "cap = cv2.VideoCapture(video_path)\n",
    "\n",
    "# prepare video writer for saving results\n",
    "# Process video\n",
    "while cap.isOpened():\n",
    "    success, frame = cap.read()\n",
    "    if not success:\n",
    "        break\n",
    "        \n",
    "    # Run inference on the frame\n",
    "    results = model.track(frame, persist=True, verbose=False)\n",
    "    for r in results:\n",
    "        im = r.plot()\n",
    "        rotated_frame = cv2.rotate(im, cv2.ROTATE_90_CLOCKWISE)\n",
    "        cv2.imshow(\"YOLOv8 Pose Estimation\", rotated_frame)\n",
    "    # Visualize the results on the frame\n",
    "\n",
    "    \n",
    "    \n",
    "    # Display the annotated frame (optional)\n",
    "    #cv2.imshow(\"YOLOv8 Inference\", rotated_frame)\n",
    "    if cv2.waitKey(1) & 0xFF == ord('q'):\n",
    "        break\n",
    "\n",
    "# Release resources\n",
    "cap.release()\n",
    "cv2.destroyAllWindows()"
   ]
  }
 ],
 "metadata": {
  "kernelspec": {
   "display_name": "Python 3.12 (shot_analyzer)",
   "language": "python",
   "name": ".shot_analyzer_venv"
  },
  "language_info": {
   "codemirror_mode": {
    "name": "ipython",
    "version": 3
   },
   "file_extension": ".py",
   "mimetype": "text/x-python",
   "name": "python",
   "nbconvert_exporter": "python",
   "pygments_lexer": "ipython3",
   "version": "3.12.9"
  }
 },
 "nbformat": 4,
 "nbformat_minor": 5
}
