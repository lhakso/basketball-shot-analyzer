{
 "cells": [
  {
   "cell_type": "code",
   "execution_count": 1,
   "id": "f8208edb-9250-414e-907d-82e399ace9e8",
   "metadata": {},
   "outputs": [
    {
     "name": "stderr",
     "output_type": "stream",
     "text": [
      "2025-04-08 14:05:56.786 Python[61165:7201766] +[IMKClient subclass]: chose IMKClient_Modern\n",
      "2025-04-08 14:05:56.786 Python[61165:7201766] +[IMKInputSession subclass]: chose IMKInputSession_Modern\n"
     ]
    }
   ],
   "source": [
    "from ultralytics import YOLO\n",
    "import cv2\n",
    "\n",
    "# Load your custom-trained YOLO model\n",
    "model = YOLO('../training_results/first_run/weights/best.pt')\n",
    "model.conf = 0.5\n",
    "# Open the video\n",
    "video_path = \"../input/video/right_profile_1.mov\"\n",
    "cap = cv2.VideoCapture(video_path)\n",
    "\n",
    "# prepare video writer for saving results\n",
    "width = int(cap.get(cv2.CAP_PROP_FRAME_WIDTH))\n",
    "height = int(cap.get(cv2.CAP_PROP_FRAME_HEIGHT))\n",
    "fps = cap.get(cv2.CAP_PROP_FPS)\n",
    "output_path = '../output/video/output_video.avi'\n",
    "out = cv2.VideoWriter(output_path, cv2.VideoWriter_fourcc(*'XVID'), 30, (width, height))\n",
    "\n",
    "# Process video\n",
    "while cap.isOpened():\n",
    "    success, frame = cap.read()\n",
    "    if not success:\n",
    "        break\n",
    "        \n",
    "    # Run inference on the frame\n",
    "    results = model.track(frame, persist=True, verbose=False)\n",
    "    \n",
    "    # Visualize the results on the frame\n",
    "    # If any detections exist, keep only the highest confidence one\n",
    "    if len(results[0].boxes) > 0:\n",
    "        # Sort by confidence and keep only the highest\n",
    "        boxes = results[0].boxes\n",
    "        conf_values = boxes.conf.cpu().numpy()\n",
    "        highest_conf_index = conf_values.argmax()\n",
    "        conf = conf_values[highest_conf_index]\n",
    "        \n",
    "        # Get just the highest confidence box\n",
    "        single_box = boxes[highest_conf_index].xyxy.cpu().numpy()[0]\n",
    "        \n",
    "        # Draw only this box\n",
    "        x1, y1, x2, y2 = map(int, single_box[:4])\n",
    "        cv2.rectangle(frame, (x1, y1), (x2, y2), (0, 255, 0), 2)\n",
    "        conf_text = f\"Conf: {conf:.2f}\"\n",
    "        cv2.putText(frame, conf_text, (x1, y1-10), \n",
    "                     cv2.FONT_HERSHEY_SIMPLEX, 0.5, (0, 255, 0), 2)\n",
    "    # Write the frame with the detections to the output video\n",
    "    \n",
    "    rotated_frame = cv2.rotate(frame, cv2.ROTATE_90_CLOCKWISE)\n",
    "    out.write(rotated_frame)\n",
    "    \n",
    "    # Display the annotated frame (optional)\n",
    "    cv2.imshow(\"YOLOv8 Inference\", rotated_frame)\n",
    "    if cv2.waitKey(1) & 0xFF == ord('q'):\n",
    "        break\n",
    "\n",
    "# Release resources\n",
    "cap.release()\n",
    "out.release()\n",
    "cv2.destroyAllWindows()"
   ]
  }
 ],
 "metadata": {
  "kernelspec": {
   "display_name": "Python 3.12 (shot_analyzer)",
   "language": "python",
   "name": ".shot_analyzer_venv"
  },
  "language_info": {
   "codemirror_mode": {
    "name": "ipython",
    "version": 3
   },
   "file_extension": ".py",
   "mimetype": "text/x-python",
   "name": "python",
   "nbconvert_exporter": "python",
   "pygments_lexer": "ipython3",
   "version": "3.12.9"
  }
 },
 "nbformat": 4,
 "nbformat_minor": 5
}
